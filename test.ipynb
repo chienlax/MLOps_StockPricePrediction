{
 "cells": [
  {
   "cell_type": "code",
   "execution_count": 2,
   "id": "6fcecf54",
   "metadata": {},
   "outputs": [
    {
     "name": "stderr",
     "output_type": "stream",
     "text": [
      "[*********************100%***********************]  1 of 1 completed\n",
      "\n",
      "1 Failed download:\n",
      "['AAPL']: YFRateLimitError('Too Many Requests. Rate limited. Try after a while.')\n"
     ]
    }
   ],
   "source": [
    "# Crawl AAPL stock data from Yahoo Finance\n",
    "# and save it to a CSV file.\n",
    "\n",
    "import requests\n",
    "import pandas as pd\n",
    "import datetime\n",
    "import os\n",
    "import time\n",
    "import logging\n",
    "import yfinance\n",
    "\n",
    "data = yfinance.download(\"AAPL\", start=\"2024-01-01\", end=\"2025-01-01\")\n",
    "data.reset_index(inplace=True)\n",
    "data['Date'] = data['Date'].dt.strftime('%Y-%m-%d')\n",
    "data['Date'] = pd.to_datetime(data['Date'])\n",
    "\n",
    "data.to_csv('AAPL.csv', index=False)"
   ]
  }
 ],
 "metadata": {
  "kernelspec": {
   "display_name": "Python 3",
   "language": "python",
   "name": "python3"
  },
  "language_info": {
   "codemirror_mode": {
    "name": "ipython",
    "version": 3
   },
   "file_extension": ".py",
   "mimetype": "text/x-python",
   "name": "python",
   "nbconvert_exporter": "python",
   "pygments_lexer": "ipython3",
   "version": "3.12.8"
  }
 },
 "nbformat": 4,
 "nbformat_minor": 5
}
